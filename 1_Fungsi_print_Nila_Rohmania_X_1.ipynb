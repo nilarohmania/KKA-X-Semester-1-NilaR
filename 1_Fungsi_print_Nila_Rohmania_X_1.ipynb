{
  "cells": [
    {
      "cell_type": "markdown",
      "metadata": {
        "id": "view-in-github",
        "colab_type": "text"
      },
      "source": [
        "<a href=\"https://colab.research.google.com/github/nilarohmania/KKA-X-Semester-1-NilaR/blob/main/1_Fungsi_print_Nila_Rohmania_X_1.ipynb\" target=\"_parent\"><img src=\"https://colab.research.google.com/assets/colab-badge.svg\" alt=\"Open In Colab\"/></a>"
      ]
    },
    {
      "cell_type": "markdown",
      "metadata": {
        "id": "DoYPiPnT2OAh"
      },
      "source": [
        "nama : nila rohmania\n",
        "\n",
        "kelas : x-1\n",
        "\n",
        "no absen : 25"
      ]
    },
    {
      "cell_type": "markdown",
      "metadata": {
        "id": "bnOLLAjb2pot"
      },
      "source": [
        "#Menampilkan Teks Bebas"
      ]
    },
    {
      "cell_type": "code",
      "execution_count": null,
      "metadata": {
        "colab": {
          "base_uri": "https://localhost:8080/"
        },
        "id": "wyjEOAu_2EAh",
        "outputId": "a9c0a758-d5e8-4179-ecbd-4ad82d49b01b"
      },
      "outputs": [
        {
          "name": "stdout",
          "output_type": "stream",
          "text": [
            "hello world\n"
          ]
        }
      ],
      "source": [
        "print (\"hello world\")"
      ]
    },
    {
      "cell_type": "code",
      "execution_count": null,
      "metadata": {
        "colab": {
          "base_uri": "https://localhost:8080/"
        },
        "id": "WkGXTrvm7lAJ",
        "outputId": "2574f601-83e0-48ba-9d9f-034420cbae8b"
      },
      "outputs": [
        {
          "name": "stdout",
          "output_type": "stream",
          "text": [
            "nila rohmania\n"
          ]
        }
      ],
      "source": [
        "print(\"nila rohmania\")"
      ]
    },
    {
      "cell_type": "markdown",
      "metadata": {
        "id": "8X2fkzal5c3x"
      },
      "source": [
        "#Menampilkan Nilai Variabel"
      ]
    },
    {
      "cell_type": "code",
      "execution_count": null,
      "metadata": {
        "colab": {
          "base_uri": "https://localhost:8080/"
        },
        "id": "9rA_aaAD7KOp",
        "outputId": "b5839fdd-6978-4a7d-bede-6de161f17c4a"
      },
      "outputs": [
        {
          "name": "stdout",
          "output_type": "stream",
          "text": [
            "hannan attaqi\n"
          ]
        }
      ],
      "source": [
        "nama_idola = \"hannan attaqi\"\n",
        "\n",
        "print(nama_idola)"
      ]
    },
    {
      "cell_type": "code",
      "execution_count": null,
      "metadata": {
        "colab": {
          "base_uri": "https://localhost:8080/"
        },
        "id": "n0Vm80Vi7dSr",
        "outputId": "f62ce7db-09f9-479b-9747-33480449ac4f"
      },
      "outputs": [
        {
          "name": "stdout",
          "output_type": "stream",
          "text": [
            "15\n"
          ]
        }
      ],
      "source": [
        "usia = 15\n",
        "\n",
        "print(usia)"
      ]
    },
    {
      "cell_type": "markdown",
      "metadata": {
        "id": "OoV5Xzg49Egl"
      },
      "source": [
        "Latihan soal:\n",
        "1. buat variabel nama saudara & tampilkan\n",
        "2. buat variabel jumlah saudara & tampilkan"
      ]
    },
    {
      "cell_type": "code",
      "execution_count": null,
      "metadata": {
        "colab": {
          "base_uri": "https://localhost:8080/"
        },
        "id": "3xEvIdGB5sNj",
        "outputId": "a7793f11-1f8c-4753-bd11-41756cd6bc62"
      },
      "outputs": [
        {
          "name": "stdout",
          "output_type": "stream",
          "text": [
            "nara\n"
          ]
        }
      ],
      "source": [
        "nama_saudara = \"nara\"\n",
        "\n",
        "print(nama_saudara)"
      ]
    },
    {
      "cell_type": "code",
      "execution_count": null,
      "metadata": {
        "colab": {
          "base_uri": "https://localhost:8080/"
        },
        "id": "YAQjBEjO6DOd",
        "outputId": "c1b35615-883f-456e-d4f1-27a71f34ff70"
      },
      "outputs": [
        {
          "name": "stdout",
          "output_type": "stream",
          "text": [
            "1\n"
          ]
        }
      ],
      "source": [
        "jumlah_saudara = 1\n",
        "\n",
        "print(jumlah_saudara)"
      ]
    },
    {
      "cell_type": "markdown",
      "metadata": {
        "id": "n7j20lpG2-MP"
      },
      "source": [
        "#Menampilkan Nilai Variabel dan String"
      ]
    },
    {
      "cell_type": "code",
      "execution_count": null,
      "metadata": {
        "colab": {
          "base_uri": "https://localhost:8080/"
        },
        "id": "ZX0XPYCK3LeS",
        "outputId": "6a70a98c-3f6c-4859-c3ad-e4a429ba9f8f"
      },
      "outputs": [
        {
          "name": "stdout",
          "output_type": "stream",
          "text": [
            "nama idola saya adalah hannan attaqi . usianya adalah 15 tahun.\n"
          ]
        }
      ],
      "source": [
        "print(\"nama idola saya adalah\", nama_idola,\". usianya adalah\",usia,\"tahun.\")"
      ]
    },
    {
      "cell_type": "code",
      "execution_count": null,
      "metadata": {
        "colab": {
          "base_uri": "https://localhost:8080/"
        },
        "id": "03NGzvoK31vj",
        "outputId": "75c33598-d202-49c0-a726-75be15f8e379"
      },
      "outputs": [
        {
          "name": "stdout",
          "output_type": "stream",
          "text": [
            "nama idola saya adalahhannan attaqi. usianya adalah 15 tahun\n"
          ]
        }
      ],
      "source": [
        "print(\"nama idola saya adalah\"  +nama_idola+ \". usianya adalah \" +str(usia)+ \" tahun\")"
      ]
    },
    {
      "cell_type": "code",
      "execution_count": null,
      "metadata": {
        "colab": {
          "base_uri": "https://localhost:8080/"
        },
        "id": "YJqzvU5t4yX8",
        "outputId": "3ed9c930-c160-4e66-820e-67cd00369034"
      },
      "outputs": [
        {
          "name": "stdout",
          "output_type": "stream",
          "text": [
            "nama idola saya adalah hannan attaqi. usianya adalah 15 tahun.\n"
          ]
        }
      ],
      "source": [
        "print(f\"nama idola saya adalah {nama_idola}. usianya adalah {usia} tahun.\")"
      ]
    },
    {
      "cell_type": "markdown",
      "metadata": {
        "id": "h6qF08Fe7wfK"
      },
      "source": [
        "#Escape String"
      ]
    },
    {
      "cell_type": "code",
      "execution_count": null,
      "metadata": {
        "colab": {
          "base_uri": "https://localhost:8080/"
        },
        "id": "k6WhMAL65DZz",
        "outputId": "cf2a85f7-1659-4a43-908e-e81f7c501309"
      },
      "outputs": [
        {
          "name": "stdout",
          "output_type": "stream",
          "text": [
            "nama: nila rohmania\n",
            "kelas: x.1\n",
            "no absen: 25\n"
          ]
        }
      ],
      "source": [
        "print(\"nama: nila rohmania\")\n",
        "print(\"kelas: x.1\")\n",
        "print(\"no absen: 25\")"
      ]
    },
    {
      "cell_type": "code",
      "execution_count": null,
      "metadata": {
        "colab": {
          "base_uri": "https://localhost:8080/"
        },
        "id": "GtN55gJG9w4F",
        "outputId": "20c75ec1-62ed-4f52-a3bf-570bfdd17c53"
      },
      "outputs": [
        {
          "name": "stdout",
          "output_type": "stream",
          "text": [
            "nama: nila rohmania\n",
            "Kelas: x.1\n",
            "no absen: 25\n"
          ]
        }
      ],
      "source": [
        "print(\"nama: nila rohmania\\nKelas: x.1\\nno absen: 25\")"
      ]
    },
    {
      "cell_type": "code",
      "execution_count": null,
      "metadata": {
        "colab": {
          "base_uri": "https://localhost:8080/"
        },
        "id": "acgrPQR59_qJ",
        "outputId": "5c48b7e2-2e93-4f86-ef13-49312eb7395f"
      },
      "outputs": [
        {
          "name": "stdout",
          "output_type": "stream",
          "text": [
            "nama\t\t : nila rohmania \n",
            "kelas\t\t : x.1\n",
            "no absen\t : 25\n"
          ]
        }
      ],
      "source": [
        "print(\"\"\"nama\\t\\t : nila rohmania\n",
        "kelas\\t\\t : x.1\n",
        "no absen\\t : 25\"\"\")"
      ]
    },
    {
      "cell_type": "code",
      "execution_count": null,
      "metadata": {
        "colab": {
          "base_uri": "https://localhost:8080/"
        },
        "id": "R8SWuqZWhbvX",
        "outputId": "c87cbeb2-c736-4bb7-e875-f9963355c5e4"
      },
      "outputs": [
        {
          "name": "stdout",
          "output_type": "stream",
          "text": [
            "halo nama saya habib jafar\n"
          ]
        }
      ],
      "source": [
        "print(\"halo nama saya habib jafar\")"
      ]
    },
    {
      "cell_type": "code",
      "execution_count": null,
      "metadata": {
        "colab": {
          "base_uri": "https://localhost:8080/"
        },
        "id": "PBpb8awIhu_Q",
        "outputId": "f5823101-c8db-4230-ac6b-cbd4f8e2ee88"
      },
      "outputs": [
        {
          "name": "stdout",
          "output_type": "stream",
          "text": [
            "halo nama saya habib jafar\n"
          ]
        }
      ],
      "source": [
        "print('halo nama saya habib jafar')"
      ]
    },
    {
      "cell_type": "code",
      "execution_count": null,
      "metadata": {
        "colab": {
          "base_uri": "https://localhost:8080/"
        },
        "id": "WTB2wYB0h5ZI",
        "outputId": "c1dd4f22-e7c2-4335-93d7-0a47a92f8bab"
      },
      "outputs": [
        {
          "name": "stdout",
          "output_type": "stream",
          "text": [
            "halo nama saya habib ja'far\n"
          ]
        }
      ],
      "source": [
        "print('halo nama saya habib ja\\'far')"
      ]
    },
    {
      "cell_type": "code",
      "execution_count": null,
      "metadata": {
        "colab": {
          "base_uri": "https://localhost:8080/"
        },
        "id": "BGFjvI0hiEfy",
        "outputId": "e380a811-b861-487c-8038-cd60e0605af0"
      },
      "outputs": [
        {
          "name": "stdout",
          "output_type": "stream",
          "text": [
            "halo nama saya habib ja'far\n"
          ]
        }
      ],
      "source": [
        "print(\"halo nama saya habib ja'far\")"
      ]
    },
    {
      "cell_type": "code",
      "execution_count": null,
      "metadata": {
        "colab": {
          "base_uri": "https://localhost:8080/"
        },
        "id": "3hNTHBmRiQY0",
        "outputId": "d460b7e9-ddef-446d-a55f-72a8f01b3851"
      },
      "outputs": [
        {
          "name": "stdout",
          "output_type": "stream",
          "text": [
            "bu shinta berkata, \"tolong fokus ke TV sejenak.\"\n"
          ]
        }
      ],
      "source": [
        "print(\"bu shinta berkata, \\\"tolong fokus ke TV sejenak.\\\"\")"
      ]
    },
    {
      "cell_type": "code",
      "execution_count": null,
      "metadata": {
        "colab": {
          "base_uri": "https://localhost:8080/"
        },
        "id": "rFtmMKeYieqP",
        "outputId": "92f6dc7b-1005-43e6-9946-f75ed33e778d"
      },
      "outputs": [
        {
          "name": "stdout",
          "output_type": "stream",
          "text": [
            "bu shinta berkata, \"tolong fokus ke TV sejenak\"\n"
          ]
        }
      ],
      "source": [
        "print('bu shinta berkata, \"tolong fokus ke TV sejenak\"')"
      ]
    },
    {
      "cell_type": "code",
      "execution_count": null,
      "metadata": {
        "colab": {
          "base_uri": "https://localhost:8080/"
        },
        "id": "r-osfSrqipU-",
        "outputId": "865b09bf-10f8-4e72-8d9a-35b7c4192db5"
      },
      "outputs": [
        {
          "name": "stdout",
          "output_type": "stream",
          "text": [
            "silakan simpan file tugas KKA difolder locak disk D:\\MAN Demak\\KKA\\tugas\n"
          ]
        }
      ],
      "source": [
        "print(\"silakan simpan file tugas KKA difolder locak disk D:\\\\MAN Demak\\\\KKA\\\\tugas\")"
      ]
    },
    {
      "cell_type": "code",
      "execution_count": null,
      "metadata": {
        "colab": {
          "base_uri": "https://localhost:8080/"
        },
        "id": "ZfPoCEqOjHgR",
        "outputId": "f86ba24a-c0b2-42ce-80ca-51f2676136ef"
      },
      "outputs": [
        {
          "name": "stdout",
          "output_type": "stream",
          "text": [
            "bu shinta berkata, \"berikut daftar piket harian kelas X.2 yang disimpan di file D:\\MAN Demak\\jadwal piket.\"\n",
            "\n",
            "\n",
            "senin\tselasa\trabu\n",
            "jielo\tazam\tnaufal\n",
            "azam\ta'inun\tnurul\n"
          ]
        }
      ],
      "source": [
        "print('Bu Shinta berkata, \"Berikut adalah daftar piket harian kelas X.2 yang disimpan di file D:\\\\MAN Demak\\\\jadwal piket.\"')\n",
        "print(\"\\n\")\n",
        "print(\"senin\\tselasa\\trabu\")\n",
        "print(\"jielo\\thasbi\\tnaufal\")\n",
        "print(\"azam\\ta'inun\\tnurul\")\n"
      ]
    },
    {
      "cell_type": "markdown",
      "metadata": {
        "id": "7gc88MY6pE3o"
      },
      "source": [
        "#Parameter Fungsi Print"
      ]
    },
    {
      "cell_type": "code",
      "execution_count": null,
      "metadata": {
        "colab": {
          "base_uri": "https://localhost:8080/"
        },
        "id": "JByncO6DkDV3",
        "outputId": "bf0d2a9a-1b4d-4e24-b51d-90e4d6cc371f"
      },
      "outputs": [
        {
          "name": "stdout",
          "output_type": "stream",
          "text": [
            "Dias Disa\n"
          ]
        }
      ],
      "source": [
        "nama_siswa_1 = \"Dias\"\n",
        "nama_siswa_2 = \"Disa\"\n",
        "nama_siswa_3 = \"Tyas\"\n",
        "\n",
        "print(nama_siswa_1, end=\" \")\n",
        "print(nama_siswa_2)"
      ]
    },
    {
      "cell_type": "code",
      "execution_count": null,
      "metadata": {
        "colab": {
          "base_uri": "https://localhost:8080/"
        },
        "id": "tSD0yH3Uo_3a",
        "outputId": "921b3815-be9b-4958-f966-f6f4adbbc848"
      },
      "outputs": [
        {
          "name": "stdout",
          "output_type": "stream",
          "text": [
            "Dias Disa\n"
          ]
        }
      ],
      "source": [
        "print(nama_siswa_1, nama_siswa_2)"
      ]
    },
    {
      "cell_type": "code",
      "execution_count": null,
      "metadata": {
        "colab": {
          "base_uri": "https://localhost:8080/"
        },
        "id": "GaulyXWzp1Qk",
        "outputId": "4527cbf2-1309-4101-ddc2-435c01121200"
      },
      "outputs": [
        {
          "name": "stdout",
          "output_type": "stream",
          "text": [
            "Dias-Disa\n"
          ]
        }
      ],
      "source": [
        "print(nama_siswa_1, nama_siswa_2, sep=\"-\")"
      ]
    },
    {
      "cell_type": "code",
      "execution_count": null,
      "metadata": {
        "colab": {
          "base_uri": "https://localhost:8080/"
        },
        "id": "zd7PBJHMqGe3",
        "outputId": "ff3572ca-c66b-4ba5-c3d0-c248b31693bd"
      },
      "outputs": [
        {
          "output_type": "stream",
          "name": "stdout",
          "text": [
            "Ridho/Kinan/Naufal/Azka/Azka\n"
          ]
        }
      ],
      "source": [
        "nama_siswa_3 = \"Kinan\"\n",
        "nama_siswa_4 = \"Azka\"\n",
        "nama_siswa_5 = \"Naufal\"\n",
        "nama_siswa_6 = \"Ridho\"\n",
        "\n",
        "print(nama_siswa_6, nama_siswa_3, nama_siswa_5, nama_siswa_4, nama_siswa_4, sep=\"/\")"
      ]
    },
    {
      "cell_type": "code",
      "execution_count": null,
      "metadata": {
        "colab": {
          "base_uri": "https://localhost:8080/"
        },
        "id": "nUMqxPvpq4Qw",
        "outputId": "cfe8938b-3282-49df-ef2b-2c4c960b8098"
      },
      "outputs": [
        {
          "output_type": "stream",
          "name": "stdout",
          "text": [
            "Azka*Azka*Naufal*Kinan*Ridho\n"
          ]
        }
      ],
      "source": [
        "print(nama_siswa_4, end=\"*\")\n",
        "print(nama_siswa_4, end=\"*\")\n",
        "print(nama_siswa_5, end=\"*\")\n",
        "print(nama_siswa_3, end=\"*\")\n",
        "print(nama_siswa_6)"
      ]
    }
  ],
  "metadata": {
    "colab": {
      "provenance": [],
      "authorship_tag": "ABX9TyMC79ghsTji8sEH281Z67wd",
      "include_colab_link": true
    },
    "kernelspec": {
      "display_name": "Python 3",
      "name": "python3"
    },
    "language_info": {
      "name": "python"
    }
  },
  "nbformat": 4,
  "nbformat_minor": 0
}